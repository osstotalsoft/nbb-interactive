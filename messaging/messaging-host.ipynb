{
 "cells": [
  {
   "cell_type": "code",
   "execution_count": null,
   "metadata": {
    "dotnet_interactive": {
     "language": "fsharp"
    },
    "vscode": {
     "languageId": "dotnet-interactive.fsharp"
    }
   },
   "outputs": [
    {
     "data": {
      "text/html": [
       "<div><div></div><div></div><div><strong>Installed Packages</strong><ul><li><span>Microsoft.Extensions.Configuration, 6.0.0</span></li><li><span>Microsoft.Extensions.Configuration.Json, 6.0.0</span></li><li><span>Microsoft.Extensions.DependencyInjection, 6.0.0</span></li><li><span>Microsoft.Extensions.Hosting, 6.0.1</span></li><li><span>Microsoft.Extensions.Logging, 6.0.0</span></li><li><span>Microsoft.Extensions.Logging.Console, 6.0.0</span></li><li><span>Moq, 4.16.1</span></li><li><span>NBB.Messaging.Host, 6.0.18</span></li><li><span>NBB.Messaging.Nats, 6.0.18</span></li></ul></div></div>"
      ]
     },
     "metadata": {},
     "output_type": "display_data"
    }
   ],
   "source": [
    "#r \"nuget: NBB.Messaging.Host, 6.0.18\"\n",
    "#r \"nuget: NBB.Messaging.Nats, 6.0.18\"\n",
    "#r \"nuget: Microsoft.Extensions.DependencyInjection, 6.0.0\"\n",
    "#r \"nuget: Microsoft.Extensions.Hosting, 6.0.1\"\n",
    "#r \"nuget: Microsoft.Extensions.Configuration, 6.0.0\"\n",
    "#r \"nuget: Microsoft.Extensions.Configuration.Json, 6.0.0\"\n",
    "#r \"nuget: Microsoft.Extensions.Logging, 6.0.0\"\n",
    "#r \"nuget: Microsoft.Extensions.Logging.Console, 6.0.0\"\n",
    "#r \"nuget: Moq, 4.16.1\""
   ]
  },
  {
   "cell_type": "code",
   "execution_count": null,
   "metadata": {
    "dotnet_interactive": {
     "language": "fsharp"
    },
    "vscode": {
     "languageId": "dotnet-interactive.fsharp"
    }
   },
   "outputs": [],
   "source": [
    "open Microsoft.Extensions.DependencyInjection\n",
    "open Microsoft.Extensions.Configuration\n",
    "open Microsoft.Extensions.Logging\n",
    "open Microsoft.Extensions.Hosting\n",
    "open NBB.Messaging.Host\n",
    "open NBB.Messaging.Abstractions\n",
    "open Moq\n",
    "open System.Threading.Tasks\n",
    "\n",
    "type MyCommand = { id: int }\n",
    "\n",
    "let configuration = \n",
    "    ConfigurationBuilder()\n",
    "        .SetBasePath(Directory.GetCurrentDirectory())\n",
    "        .AddJsonFile(\"appsettings.json\")\n",
    "        .AddEnvironmentVariables()\n",
    "        .Build()\n",
    "\n",
    "let services = ServiceCollection()\n",
    "services.AddSingleton<IHostApplicationLifetime>(Mock.Of<IHostApplicationLifetime>())\n",
    "services.AddSingleton<IConfiguration>(configuration)\n",
    "services.AddLogging(fun x-> x.AddConsole().SetMinimumLevel(LogLevel.Debug) |> ignore)\n",
    "services.AddMessageBus().AddNatsTransport(configuration)\n",
    "services.AddMessagingHost(configuration, fun h -> h.Configure(fun configBuilder ->\n",
    "    configBuilder\n",
    "        .AddSubscriberServices(fun c -> c.AddTypes(typeof<MyCommand>) |> ignore)\n",
    "        .WithDefaultOptions()\n",
    "        .UsePipeline(fun pipelineBuilder -> pipelineBuilder.UseExceptionHandlingMiddleware() |> ignore) |> ignore) |> ignore\n",
    ")\n",
    "\n",
    "let container = services.BuildServiceProvider()"
   ]
  },
  {
   "cell_type": "code",
   "execution_count": null,
   "metadata": {
    "dotnet_interactive": {
     "language": "fsharp"
    },
    "vscode": {
     "languageId": "dotnet-interactive.fsharp"
    }
   },
   "outputs": [
    {
     "name": "stdout",
     "output_type": "stream",
     "text": [
      "info: NBB.Messaging.Nats.Internal.StanConnectionProvider[0]\r\n",
      "      NATS connection to nats://kube-worker1.totalsoft.local:31291 was established\r\n",
      "dbug: NBB.Messaging.Abstractions.MessageBusPublisher[0]\r\n",
      "      Messaging publisher sent a message for subject TS1859.FSI_0005.MyCommand\r\n",
      "dbug: NBB.Messaging.Abstractions.MessageBusPublisher[0]\r\n",
      "      Messaging publisher sent a message for subject TS1859.FSI_0005.MyCommand\r\n"
     ]
    }
   ],
   "source": [
    "let msgBus = container.GetRequiredService<IMessageBus>()\n",
    "\n",
    "let publishMessages = task {\n",
    "    for i in 0 .. 100 do\n",
    "        do! msgBus.PublishAsync({id= i})\n",
    "}\n",
    "\n",
    "//publishMessages.Wait()\n",
    "\n",
    "msgBus.PublishAsync({id= 1}).Wait()"
   ]
  },
  {
   "cell_type": "code",
   "execution_count": null,
   "metadata": {
    "dotnet_interactive": {
     "language": "fsharp"
    },
    "vscode": {
     "languageId": "dotnet-interactive.fsharp"
    }
   },
   "outputs": [],
   "source": [
    "let msgHost = container.GetRequiredService<IMessagingHost>()\n",
    "\n",
    "let t = task {\n",
    "    msgHost.ScheduleRestart(TimeSpan.FromSeconds(0))\n",
    "    do! Task.Delay(10000)\n",
    "    do! msgHost.StopAsync()\n",
    "}\n",
    "t.Wait()\n"
   ]
  },
  {
   "cell_type": "code",
   "execution_count": null,
   "metadata": {
    "dotnet_interactive": {
     "language": "fsharp"
    },
    "vscode": {
     "languageId": "dotnet-interactive.fsharp"
    }
   },
   "outputs": [
    {
     "name": "stdout",
     "output_type": "stream",
     "text": [
      "info: NBB.Messaging.Host.Internal.MessagingHost[0]\r\n",
      "      Messaging host is starting\r\n",
      "info: NBB.Messaging.Host.Internal.MessagingHost[0]\r\n",
      "      Messaging subscriber for topic FSI_0029.MyCommand is starting\r\n",
      "info: NBB.Messaging.Nats.Internal.StanConnectionProvider[0]\r\n",
      "      NATS connection to nats://kube-worker1.totalsoft.local:31291 was established\r\n",
      "info: NBB.Messaging.Host.Internal.MessagingHost[0]\r\n",
      "      Messaging host has started\r\n",
      "info: Microsoft.Hosting.Lifetime[0]\r\n",
      "      Application started. Press Ctrl+C to shut down.\r\n",
      "info: Microsoft.Hosting.Lifetime[0]\r\n",
      "      Hosting environment: Production\r\n",
      "info: Microsoft.Hosting.Lifetime[0]\r\n",
      "      Content root path: d:\\Github\\oncicaradupopovici\\nbb-interactive\r\n"
     ]
    }
   ],
   "source": [
    "open Microsoft.Extensions.DependencyInjection\n",
    "open Microsoft.Extensions.Hosting\n",
    "open NBB.Messaging.Host\n",
    "\n",
    "let createHostBuilder args =\n",
    "        Host.CreateDefaultBuilder(args)\n",
    "            .ConfigureServices(fun hostContext services ->\n",
    "                services.AddMessageBus().AddNatsTransport(hostContext.Configuration) |> ignore\n",
    "                services.AddMessagingHost(hostContext.Configuration, fun h -> h.Configure(fun configBuilder ->\n",
    "                    configBuilder\n",
    "                        .AddSubscriberServices(fun c -> c.AddTypes(typeof<MyCommand>) |> ignore)\n",
    "                        .WithDefaultOptions()\n",
    "                        .UsePipeline(fun pipelineBuilder -> pipelineBuilder.UseExceptionHandlingMiddleware() |> ignore) |> ignore) |> ignore\n",
    "                ) |> ignore\n",
    "            )            \n",
    "                \n",
    "createHostBuilder([||]).Build().Run()"
   ]
  }
 ],
 "metadata": {
  "kernelspec": {
   "display_name": ".NET (F#)",
   "language": "F#",
   "name": ".net-fsharp"
  },
  "language_info": {
   "name": "F#"
  }
 },
 "nbformat": 4,
 "nbformat_minor": 2
}
